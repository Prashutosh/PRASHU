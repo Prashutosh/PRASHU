{
 "cells": [
  {
   "cell_type": "code",
   "execution_count": 3,
   "metadata": {},
   "outputs": [],
   "source": [
    "students={\n",
    "    'maulik':{\n",
    "        'collage':'MU',\n",
    "        'type':'offline'\n",
    "    },\n",
    "    'aman':'NPGE',\n",
    "    'abhay':'NPGE',\n",
    "    'mazahir':'AU',\n",
    "    'imadul':'IU',\n",
    "    'prashutosh':'SHUATS',\n",
    "    'shoeb':{\n",
    "        'collage':'IET',\n",
    "        'type':'online'\n",
    "    }\n",
    "\n",
    "}"
   ]
  },
  {
   "cell_type": "code",
   "execution_count": 5,
   "metadata": {},
   "outputs": [],
   "source": [
    "from pprint import pp"
   ]
  },
  {
   "cell_type": "code",
   "execution_count": 6,
   "metadata": {},
   "outputs": [
    {
     "name": "stdout",
     "output_type": "stream",
     "text": [
      "{'maulik': {'collage': 'MU', 'type': 'offline'},\n",
      " 'aman': 'NPGE',\n",
      " 'abhay': 'NPGE',\n",
      " 'mazahir': 'AU',\n",
      " 'imadul': 'IU',\n",
      " 'prashutosh': 'SHUATS',\n",
      " 'shoeb': {'collage': 'IET', 'type': 'online'}}\n"
     ]
    }
   ],
   "source": [
    "pp(students)"
   ]
  },
  {
   "cell_type": "code",
   "execution_count": 8,
   "metadata": {},
   "outputs": [
    {
     "data": {
      "text/plain": [
       "'offline'"
      ]
     },
     "execution_count": 8,
     "metadata": {},
     "output_type": "execute_result"
    }
   ],
   "source": [
    "students['maulik']['type']"
   ]
  },
  {
   "cell_type": "code",
   "execution_count": 10,
   "metadata": {},
   "outputs": [],
   "source": [
    "students['sherya']={\n",
    "    'collage':'BBDU',\n",
    "    'type' :'online'\n",
    "}"
   ]
  },
  {
   "cell_type": "code",
   "execution_count": 11,
   "metadata": {},
   "outputs": [
    {
     "name": "stdout",
     "output_type": "stream",
     "text": [
      "{'maulik': {'collage': 'MU', 'type': 'offline'},\n",
      " 'aman': 'NPGE',\n",
      " 'abhay': 'NPGE',\n",
      " 'mazahir': 'AU',\n",
      " 'imadul': 'IU',\n",
      " 'prashutosh': 'SHUATS',\n",
      " 'shoeb': {'collage': 'IET', 'type': 'online'},\n",
      " 'sherya': {'collage': 'BBDU', 'type': 'online'}}\n"
     ]
    }
   ],
   "source": [
    "pp(students)"
   ]
  },
  {
   "cell_type": "code",
   "execution_count": 12,
   "metadata": {},
   "outputs": [
    {
     "name": "stdout",
     "output_type": "stream",
     "text": [
      "{'maulik': {'collage': 'MU', 'type': 'offline'},\n",
      " 'aman': 'NPGE',\n",
      " 'abhay': 'NPGE',\n",
      " 'mazahir': 'AU',\n",
      " 'imadul': 'IU',\n",
      " 'prashutosh': 'SHUATS',\n",
      " 'shoeb': {'collage': 'IET', 'type': 'flexi'},\n",
      " 'sherya': {'collage': 'BBDU', 'type': 'online'}}\n"
     ]
    }
   ],
   "source": [
    "students['shoeb']['type']='flexi'\n",
    "pp(students)"
   ]
  },
  {
   "cell_type": "code",
   "execution_count": 13,
   "metadata": {},
   "outputs": [
    {
     "data": {
      "text/plain": [
       "'NPGE'"
      ]
     },
     "execution_count": 13,
     "metadata": {},
     "output_type": "execute_result"
    }
   ],
   "source": [
    "students.pop('abhay')"
   ]
  },
  {
   "cell_type": "code",
   "execution_count": 15,
   "metadata": {},
   "outputs": [
    {
     "name": "stdout",
     "output_type": "stream",
     "text": [
      "'students'\n"
     ]
    }
   ],
   "source": [
    "pp('students')"
   ]
  },
  {
   "cell_type": "code",
   "execution_count": 18,
   "metadata": {},
   "outputs": [],
   "source": [
    "report={\n",
    "    'class10':{\n",
    "        'rohan':{\n",
    "            'english':90,\n",
    "            'maths':96,\n",
    "            'hindi':85,\n",
    "            'science':95,\n",
    "            'social':95,\n",
    "            'p.e':88,\n",
    "        },\n",
    "        'mohit':{\n",
    "             'english':50,\n",
    "            'maths':56,\n",
    "            'hindi':45,\n",
    "            'science':55,\n",
    "            'social':65,\n",
    "            'p.e':95,\n",
    "\n",
    "        },\n",
    "        'shreya':{\n",
    "             'english':56,\n",
    "            'maths':76,\n",
    "            'hindi':80,\n",
    "            'science':96,\n",
    "            'social':86,\n",
    "            'p.e':67,\n",
    "        },\n",
    "        'ashish':{\n",
    "             'english':90,\n",
    "            'maths':96,\n",
    "            'hindi':85,\n",
    "            'science':95,\n",
    "            'social':95,\n",
    "            'p.e':46,\n",
    "        },\n",
    "        'ravi':{\n",
    "             'english':90,\n",
    "            'maths':96,\n",
    "            'hindi':85,\n",
    "            'science':95,\n",
    "            'social':95,\n",
    "            'p.e':51,\n",
    "        },\n",
    "        'rajat':{\n",
    "             'english':90,\n",
    "            'maths':96,\n",
    "            'hindi':85,\n",
    "            'science':95,\n",
    "            'social':95,\n",
    "            'p.e':56,\n",
    "\n",
    "        },\n",
    "        \n",
    "    }\n",
    "}"
   ]
  },
  {
   "cell_type": "code",
   "execution_count": 19,
   "metadata": {},
   "outputs": [
    {
     "name": "stdout",
     "output_type": "stream",
     "text": [
      "{'class10': {'rohan': {'english': 90,\n",
      "                       'maths': 96,\n",
      "                       'hindi': 85,\n",
      "                       'science': 95,\n",
      "                       'social': 95,\n",
      "                       'p.e': 88},\n",
      "             'mohit': {'english': 50,\n",
      "                       'maths': 56,\n",
      "                       'hindi': 45,\n",
      "                       'science': 55,\n",
      "                       'social': 65,\n",
      "                       'p.e': 95},\n",
      "             'shreya': {'english': 56,\n",
      "                        'maths': 76,\n",
      "                        'hindi': 80,\n",
      "                        'science': 96,\n",
      "                        'social': 86,\n",
      "                        'p.e': 67},\n",
      "             'ashish': {'english': 90,\n",
      "                        'maths': 96,\n",
      "                        'hindi': 85,\n",
      "                        'science': 95,\n",
      "                        'social': 95,\n",
      "                        'p.e': 46},\n",
      "             'ravi': {'english': 90,\n",
      "                      'maths': 96,\n",
      "                      'hindi': 85,\n",
      "                      'science': 95,\n",
      "                      'social': 95,\n",
      "                      'p.e': 51},\n",
      "             'rajat': {'english': 90,\n",
      "                       'maths': 96,\n",
      "                       'hindi': 85,\n",
      "                       'science': 95,\n",
      "                       'social': 95,\n",
      "                       'p.e': 56}}}\n"
     ]
    }
   ],
   "source": [
    "pp(report)"
   ]
  }
 ],
 "metadata": {
  "kernelspec": {
   "display_name": "base",
   "language": "python",
   "name": "python3"
  },
  "language_info": {
   "codemirror_mode": {
    "name": "ipython",
    "version": 3
   },
   "file_extension": ".py",
   "mimetype": "text/x-python",
   "name": "python",
   "nbconvert_exporter": "python",
   "pygments_lexer": "ipython3",
   "version": "3.10.9"
  },
  "orig_nbformat": 4
 },
 "nbformat": 4,
 "nbformat_minor": 2
}
