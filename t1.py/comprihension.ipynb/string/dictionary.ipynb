{
 "cells": [
  {
   "cell_type": "code",
   "execution_count": 3,
   "metadata": {},
   "outputs": [],
   "source": [
    "students={\n",
    "    'maulik':{\n",
    "        'collage':'MU',\n",
    "        'type':'offline'\n",
    "    },\n",
    "    'aman':'NPGE',\n",
    "    'abhay':'NPGE',\n",
    "    'mazahir':'AU',\n",
    "    'imadul':'IU',\n",
    "    'prashutosh':'SHUATS',\n",
    "    'shoeb':{\n",
    "        'collage':'IET',\n",
    "        'type':'online'\n",
    "    }\n",
    "\n",
    "}"
   ]
  },
  {
   "cell_type": "code",
   "execution_count": 5,
   "metadata": {},
   "outputs": [],
   "source": [
    "from pprint import pp"
   ]
  },
  {
   "cell_type": "code",
   "execution_count": 6,
   "metadata": {},
   "outputs": [
    {
     "name": "stdout",
     "output_type": "stream",
     "text": [
      "{'maulik': {'collage': 'MU', 'type': 'offline'},\n",
      " 'aman': 'NPGE',\n",
      " 'abhay': 'NPGE',\n",
      " 'mazahir': 'AU',\n",
      " 'imadul': 'IU',\n",
      " 'prashutosh': 'SHUATS',\n",
      " 'shoeb': {'collage': 'IET', 'type': 'online'}}\n"
     ]
    }
   ],
   "source": [
    "pp(students)"
   ]
  },
  {
   "cell_type": "code",
   "execution_count": 8,
   "metadata": {},
   "outputs": [
    {
     "data": {
      "text/plain": [
       "'offline'"
      ]
     },
     "execution_count": 8,
     "metadata": {},
     "output_type": "execute_result"
    }
   ],
   "source": [
    "students['maulik']['type']"
   ]
  },
  {
   "cell_type": "code",
   "execution_count": 10,
   "metadata": {},
   "outputs": [],
   "source": [
    "students['sherya']={\n",
    "    'collage':'BBDU',\n",
    "    'type' :'online'\n",
    "}"
   ]
  },
  {
   "cell_type": "code",
   "execution_count": 11,
   "metadata": {},
   "outputs": [
    {
     "name": "stdout",
     "output_type": "stream",
     "text": [
      "{'maulik': {'collage': 'MU', 'type': 'offline'},\n",
      " 'aman': 'NPGE',\n",
      " 'abhay': 'NPGE',\n",
      " 'mazahir': 'AU',\n",
      " 'imadul': 'IU',\n",
      " 'prashutosh': 'SHUATS',\n",
      " 'shoeb': {'collage': 'IET', 'type': 'online'},\n",
      " 'sherya': {'collage': 'BBDU', 'type': 'online'}}\n"
     ]
    }
   ],
   "source": [
    "pp(students)"
   ]
  },
  {
   "cell_type": "code",
   "execution_count": 12,
   "metadata": {},
   "outputs": [
    {
     "name": "stdout",
     "output_type": "stream",
     "text": [
      "{'maulik': {'collage': 'MU', 'type': 'offline'},\n",
      " 'aman': 'NPGE',\n",
      " 'abhay': 'NPGE',\n",
      " 'mazahir': 'AU',\n",
      " 'imadul': 'IU',\n",
      " 'prashutosh': 'SHUATS',\n",
      " 'shoeb': {'collage': 'IET', 'type': 'flexi'},\n",
      " 'sherya': {'collage': 'BBDU', 'type': 'online'}}\n"
     ]
    }
   ],
   "source": [
    "students['shoeb']['type']='flexi'\n",
    "pp(students)"
   ]
  },
  {
   "cell_type": "code",
   "execution_count": 13,
   "metadata": {},
   "outputs": [
    {
     "data": {
      "text/plain": [
       "'NPGE'"
      ]
     },
     "execution_count": 13,
     "metadata": {},
     "output_type": "execute_result"
    }
   ],
   "source": [
    "students.pop('abhay')"
   ]
  },
  {
   "cell_type": "code",
   "execution_count": 15,
   "metadata": {},
   "outputs": [
    {
     "name": "stdout",
     "output_type": "stream",
     "text": [
      "'students'\n"
     ]
    }
   ],
   "source": [
    "pp('students')"
   ]
  },
  {
   "cell_type": "code",
   "execution_count": 3,
   "metadata": {},
   "outputs": [],
   "source": [
    "report={\n",
    "    'class10':{\n",
    "        'rohan':{\n",
    "            'english':90,\n",
    "            'maths':96,\n",
    "            'hindi':85,\n",
    "            'science':95,\n",
    "            'social':95,\n",
    "            'p.e':88,\n",
    "        },\n",
    "        'mohit':{\n",
    "             'english':50,\n",
    "            'maths':56,\n",
    "            'hindi':45,\n",
    "            'science':55,\n",
    "            'social':65,\n",
    "            'p.e':95,\n",
    "\n",
    "        },\n",
    "        'shreya':{\n",
    "             'english':56,\n",
    "            'maths':76,\n",
    "            'hindi':80,\n",
    "            'science':96,\n",
    "            'social':86,\n",
    "            'p.e':67,\n",
    "        },\n",
    "        'ashish':{\n",
    "             'english':90,\n",
    "            'maths':96,\n",
    "            'hindi':85,\n",
    "            'science':95,\n",
    "            'social':95,\n",
    "            'p.e':46,\n",
    "        },\n",
    "        'ravi':{\n",
    "             'english':90,\n",
    "            'maths':96,\n",
    "            'hindi':85,\n",
    "            'science':95,\n",
    "            'social':95,\n",
    "            'p.e':51,\n",
    "        },\n",
    "        'rajat':{\n",
    "             'english':90,\n",
    "            'maths':96,\n",
    "            'hindi':85,\n",
    "            'science':95,\n",
    "            'social':95,\n",
    "            'p.e':56,\n",
    "\n",
    "        },\n",
    "        \n",
    "    }\n",
    "}"
   ]
  },
  {
   "cell_type": "code",
   "execution_count": 19,
   "metadata": {},
   "outputs": [
    {
     "name": "stdout",
     "output_type": "stream",
     "text": [
      "{'class10': {'rohan': {'english': 90,\n",
      "                       'maths': 96,\n",
      "                       'hindi': 85,\n",
      "                       'science': 95,\n",
      "                       'social': 95,\n",
      "                       'p.e': 88},\n",
      "             'mohit': {'english': 50,\n",
      "                       'maths': 56,\n",
      "                       'hindi': 45,\n",
      "                       'science': 55,\n",
      "                       'social': 65,\n",
      "                       'p.e': 95},\n",
      "             'shreya': {'english': 56,\n",
      "                        'maths': 76,\n",
      "                        'hindi': 80,\n",
      "                        'science': 96,\n",
      "                        'social': 86,\n",
      "                        'p.e': 67},\n",
      "             'ashish': {'english': 90,\n",
      "                        'maths': 96,\n",
      "                        'hindi': 85,\n",
      "                        'science': 95,\n",
      "                        'social': 95,\n",
      "                        'p.e': 46},\n",
      "             'ravi': {'english': 90,\n",
      "                      'maths': 96,\n",
      "                      'hindi': 85,\n",
      "                      'science': 95,\n",
      "                      'social': 95,\n",
      "                      'p.e': 51},\n",
      "             'rajat': {'english': 90,\n",
      "                       'maths': 96,\n",
      "                       'hindi': 85,\n",
      "                       'science': 95,\n",
      "                       'social': 95,\n",
      "                       'p.e': 56}}}\n"
     ]
    }
   ],
   "source": [
    "pp(report)"
   ]
  },
  {
   "cell_type": "code",
   "execution_count": 4,
   "metadata": {},
   "outputs": [
    {
     "name": "stdout",
     "output_type": "stream",
     "text": [
      "dict_keys(['class10'])\n"
     ]
    }
   ],
   "source": [
    "print(report.keys())"
   ]
  },
  {
   "cell_type": "code",
   "execution_count": 5,
   "metadata": {},
   "outputs": [
    {
     "data": {
      "text/plain": [
       "dict_keys(['rohan', 'mohit', 'shreya', 'ashish', 'ravi', 'rajat'])"
      ]
     },
     "execution_count": 5,
     "metadata": {},
     "output_type": "execute_result"
    }
   ],
   "source": [
    "report['class10'].keys()"
   ]
  },
  {
   "cell_type": "code",
   "execution_count": 6,
   "metadata": {},
   "outputs": [
    {
     "data": {
      "text/plain": [
       "dict_keys(['english', 'maths', 'hindi', 'science', 'social', 'p.e'])"
      ]
     },
     "execution_count": 6,
     "metadata": {},
     "output_type": "execute_result"
    }
   ],
   "source": [
    "report['class10']['rohan'].keys()"
   ]
  },
  {
   "cell_type": "code",
   "execution_count": 8,
   "metadata": {},
   "outputs": [
    {
     "ename": "AttributeError",
     "evalue": "'int' object has no attribute 'keys'",
     "output_type": "error",
     "traceback": [
      "\u001b[1;31m---------------------------------------------------------------------------\u001b[0m",
      "\u001b[1;31mAttributeError\u001b[0m                            Traceback (most recent call last)",
      "Cell \u001b[1;32mIn[8], line 1\u001b[0m\n\u001b[1;32m----> 1\u001b[0m report[\u001b[39m'\u001b[39;49m\u001b[39mclass10\u001b[39;49m\u001b[39m'\u001b[39;49m][\u001b[39m'\u001b[39;49m\u001b[39mrohan\u001b[39;49m\u001b[39m'\u001b[39;49m][\u001b[39m'\u001b[39;49m\u001b[39menglish\u001b[39;49m\u001b[39m'\u001b[39;49m]\u001b[39m.\u001b[39;49mkeys()\n",
      "\u001b[1;31mAttributeError\u001b[0m: 'int' object has no attribute 'keys'"
     ]
    }
   ],
   "source": [
    "report['class10']['rohan']['english'].keys()"
   ]
  },
  {
   "cell_type": "code",
   "execution_count": 9,
   "metadata": {},
   "outputs": [
    {
     "name": "stdout",
     "output_type": "stream",
     "text": [
      "dict_values([{'english': 90, 'maths': 96, 'hindi': 85, 'science': 95, 'social': 95, 'p.e': 88}, {'english': 50, 'maths': 56, 'hindi': 45, 'science': 55, 'social': 65, 'p.e': 95}, {'english': 56, 'maths': 76, 'hindi': 80, 'science': 96, 'social': 86, 'p.e': 67}, {'english': 90, 'maths': 96, 'hindi': 85, 'science': 95, 'social': 95, 'p.e': 46}, {'english': 90, 'maths': 96, 'hindi': 85, 'science': 95, 'social': 95, 'p.e': 51}, {'english': 90, 'maths': 96, 'hindi': 85, 'science': 95, 'social': 95, 'p.e': 56}])\n"
     ]
    }
   ],
   "source": [
    "print(report['class10'].values())"
   ]
  },
  {
   "cell_type": "code",
   "execution_count": 10,
   "metadata": {},
   "outputs": [],
   "source": [
    "movies={\n",
    "    '3 idiots':'a story of three idiots frds',\n",
    "    'lunchbox':'a story about a lunchbox',\n",
    "    'dangal':'a story about a wrestler',\n",
    "    'pk':'a story about an alien',\n",
    "    'taare jameen per':'a story about a dylexic child'\n",
    "}"
   ]
  },
  {
   "cell_type": "code",
   "execution_count": 11,
   "metadata": {},
   "outputs": [
    {
     "data": {
      "text/plain": [
       "dict_items([('3 idiots', 'a story of three idiots frds'), ('lunchbox', 'a story about a lunchbox'), ('dangal', 'a story about a wrestler'), ('pk', 'a story about an alien'), ('taare jameen per', 'a story about a dylexic child')])"
      ]
     },
     "execution_count": 11,
     "metadata": {},
     "output_type": "execute_result"
    }
   ],
   "source": [
    "movies.items()"
   ]
  },
  {
   "cell_type": "code",
   "execution_count": 12,
   "metadata": {},
   "outputs": [
    {
     "name": "stdout",
     "output_type": "stream",
     "text": [
      "3 idiots            a story of three idiots frds\n",
      "lunchbox            a story about a lunchbox\n",
      "dangal              a story about a wrestler\n",
      "pk                  a story about an alien\n",
      "taare jameen per    a story about a dylexic child\n"
     ]
    }
   ],
   "source": [
    "for k,v in movies.items():\n",
    "    print(f'{k:20}{v}')"
   ]
  },
  {
   "cell_type": "code",
   "execution_count": 13,
   "metadata": {},
   "outputs": [
    {
     "data": {
      "text/plain": [
       "True"
      ]
     },
     "execution_count": 13,
     "metadata": {},
     "output_type": "execute_result"
    }
   ],
   "source": [
    "isinstance(report['class10'],dict)"
   ]
  },
  {
   "cell_type": "code",
   "execution_count": 15,
   "metadata": {},
   "outputs": [
    {
     "name": "stdout",
     "output_type": "stream",
     "text": [
      "class10\n",
      "-> rohan\n",
      "-> english = 90\n",
      "-> maths = 96\n",
      "-> hindi = 85\n",
      "-> science = 95\n",
      "-> social = 95\n",
      "-> p.e = 88\n",
      "-> mohit\n",
      "-> english = 50\n",
      "-> maths = 56\n",
      "-> hindi = 45\n",
      "-> science = 55\n",
      "-> social = 65\n",
      "-> p.e = 95\n",
      "-> shreya\n",
      "-> english = 56\n",
      "-> maths = 76\n",
      "-> hindi = 80\n",
      "-> science = 96\n",
      "-> social = 86\n",
      "-> p.e = 67\n",
      "-> ashish\n",
      "-> english = 90\n",
      "-> maths = 96\n",
      "-> hindi = 85\n",
      "-> science = 95\n",
      "-> social = 95\n",
      "-> p.e = 46\n",
      "-> ravi\n",
      "-> english = 90\n",
      "-> maths = 96\n",
      "-> hindi = 85\n",
      "-> science = 95\n",
      "-> social = 95\n",
      "-> p.e = 51\n",
      "-> rajat\n",
      "-> english = 90\n",
      "-> maths = 96\n",
      "-> hindi = 85\n",
      "-> science = 95\n",
      "-> social = 95\n",
      "-> p.e = 56\n"
     ]
    }
   ],
   "source": [
    "for cls,students in report.items():\n",
    "    print(cls)\n",
    "    if isinstance(students,dict):\n",
    "        for name,subjects in students.items():\n",
    "            print('->',name)\n",
    "            if isinstance(students,dict):\n",
    "                for subject,marks in subjects.items():\n",
    "                    print('->',subject,'=',marks)\n",
    "    "
   ]
  },
  {
   "cell_type": "code",
   "execution_count": 17,
   "metadata": {},
   "outputs": [
    {
     "name": "stdout",
     "output_type": "stream",
     "text": [
      "class10\n",
      "-> rohan\n",
      "total-> 549\n",
      "-> mohit\n",
      "total-> 366\n",
      "-> shreya\n",
      "total-> 461\n",
      "-> ashish\n",
      "total-> 507\n",
      "-> ravi\n",
      "total-> 512\n",
      "-> rajat\n",
      "total-> 517\n"
     ]
    }
   ],
   "source": [
    "for cls,students in report.items():\n",
    "    print(cls)\n",
    "    if isinstance(students,dict):\n",
    "        for name,subjects in students.items():\n",
    "            print('->',name)\n",
    "            if isinstance(students,dict):\n",
    "                total=0\n",
    "                for subject,marks in subjects.items():\n",
    "                    total += marks\n",
    "                print('total->',total)\n",
    "    "
   ]
  },
  {
   "cell_type": "code",
   "execution_count": 19,
   "metadata": {},
   "outputs": [
    {
     "name": "stdout",
     "output_type": "stream",
     "text": [
      "class10\n",
      "-> rohan\n",
      "total-> 549\n",
      "avg-> 91\n",
      "-> mohit\n",
      "total-> 366\n",
      "avg-> 61\n",
      "-> shreya\n",
      "total-> 461\n",
      "avg-> 76\n",
      "-> ashish\n",
      "total-> 507\n",
      "avg-> 84\n",
      "-> ravi\n",
      "total-> 512\n",
      "avg-> 85\n",
      "-> rajat\n",
      "total-> 517\n",
      "avg-> 86\n"
     ]
    }
   ],
   "source": [
    "for cls,students in report.items():\n",
    "    print(cls)\n",
    "    if isinstance(students,dict):\n",
    "        for name,subjects in students.items():\n",
    "            print('->',name)\n",
    "            if isinstance(students,dict):\n",
    "                total=0\n",
    "                for subject,marks in subjects.items():\n",
    "                    total += marks\n",
    "                print('total->',total)\n",
    "                print('avg->',total//6)\n",
    "    "
   ]
  },
  {
   "cell_type": "code",
   "execution_count": 20,
   "metadata": {},
   "outputs": [
    {
     "name": "stdout",
     "output_type": "stream",
     "text": [
      "class10\n",
      "-> rohan\n",
      "max-> {'english': 90, 'maths': 96, 'hindi': 85, 'science': 95, 'social': 95, 'p.e': 88} 96\n",
      "-> mohit\n",
      "max-> {'english': 50, 'maths': 56, 'hindi': 45, 'science': 55, 'social': 65, 'p.e': 95} 95\n",
      "-> shreya\n",
      "max-> {'english': 56, 'maths': 76, 'hindi': 80, 'science': 96, 'social': 86, 'p.e': 67} 96\n",
      "-> ashish\n",
      "max-> {'english': 90, 'maths': 96, 'hindi': 85, 'science': 95, 'social': 95, 'p.e': 46} 96\n",
      "-> ravi\n",
      "max-> {'english': 90, 'maths': 96, 'hindi': 85, 'science': 95, 'social': 95, 'p.e': 51} 96\n",
      "-> rajat\n",
      "max-> {'english': 90, 'maths': 96, 'hindi': 85, 'science': 95, 'social': 95, 'p.e': 56} 96\n"
     ]
    }
   ],
   "source": [
    "for cls,students in report.items():\n",
    "    print(cls)\n",
    "    if isinstance(students,dict):\n",
    "        for name,subjects in students.items():\n",
    "            print('->',name)\n",
    "            if isinstance(students,dict):\n",
    "                mm =None\n",
    "                sub=None\n",
    "                for subject,marks in subjects.items():\n",
    "                    if mm is None or mm <marks:\n",
    "                        mm=marks\n",
    "                        sub= subjects\n",
    "                print('max->',sub,mm)        \n",
    "                \n",
    "    "
   ]
  },
  {
   "cell_type": "code",
   "execution_count": null,
   "metadata": {},
   "outputs": [],
   "source": [
    "my_list=[]\n",
    "n=int(input(\"enter number of elements: \"))\n",
    "for i"
   ]
  }
 ],
 "metadata": {
  "kernelspec": {
   "display_name": "base",
   "language": "python",
   "name": "python3"
  },
  "language_info": {
   "codemirror_mode": {
    "name": "ipython",
    "version": 3
   },
   "file_extension": ".py",
   "mimetype": "text/x-python",
   "name": "python",
   "nbconvert_exporter": "python",
   "pygments_lexer": "ipython3",
   "version": "3.10.9"
  },
  "orig_nbformat": 4
 },
 "nbformat": 4,
 "nbformat_minor": 2
}
